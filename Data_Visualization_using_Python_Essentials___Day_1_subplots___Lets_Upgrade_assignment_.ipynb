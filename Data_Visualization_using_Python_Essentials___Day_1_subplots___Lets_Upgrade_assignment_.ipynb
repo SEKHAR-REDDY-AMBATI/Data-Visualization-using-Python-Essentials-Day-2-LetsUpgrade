{
  "nbformat": 4,
  "nbformat_minor": 0,
  "metadata": {
    "colab": {
      "name": "Data Visualization using Python Essentials | Day 1 subplots | Lets Upgrade assignment  .ipynb",
      "provenance": []
    },
    "kernelspec": {
      "name": "python3",
      "display_name": "Python 3"
    },
    "language_info": {
      "name": "python"
    }
  },
  "cells": [
    {
      "cell_type": "code",
      "metadata": {
        "id": "RIhwaJo-XR15"
      },
      "source": [
        "#Data Visualization using Python Essentials | Day 1 | LetsUpgrade"
      ],
      "execution_count": 24,
      "outputs": []
    },
    {
      "cell_type": "code",
      "metadata": {
        "id": "kytTLmkuXjHW"
      },
      "source": [
        "#DAY 1 ASSIGNMENT SUBPLOTS - 05/07/2021"
      ],
      "execution_count": 25,
      "outputs": []
    },
    {
      "cell_type": "code",
      "metadata": {
        "id": "xbPPKPD1Xp68"
      },
      "source": [
        "#NAME= AMBATI SURYA SEKHARA MANIKANTA RAMIREDDY\n",
        "#EMAIL; sekharreddy717.niper@gmail.com\n",
        "#number = 8331995717"
      ],
      "execution_count": 26,
      "outputs": []
    },
    {
      "cell_type": "code",
      "metadata": {
        "id": "9FDvwegUUKL7"
      },
      "source": [
        "import pandas as pd"
      ],
      "execution_count": 1,
      "outputs": []
    },
    {
      "cell_type": "code",
      "metadata": {
        "id": "xtnAnjQmURYm"
      },
      "source": [
        "import numpy as np"
      ],
      "execution_count": 2,
      "outputs": []
    },
    {
      "cell_type": "code",
      "metadata": {
        "id": "_uJEKBb9UVEu"
      },
      "source": [
        "import matplotlib as mpl"
      ],
      "execution_count": 3,
      "outputs": []
    },
    {
      "cell_type": "code",
      "metadata": {
        "id": "oLGpVbraUYjR"
      },
      "source": [
        "import matplotlib.pyplot as plt"
      ],
      "execution_count": 4,
      "outputs": []
    },
    {
      "cell_type": "code",
      "metadata": {
        "id": "dIylLJa8UiTI"
      },
      "source": [
        "import seaborn as sns"
      ],
      "execution_count": 5,
      "outputs": []
    },
    {
      "cell_type": "code",
      "metadata": {
        "id": "-gH_etzrUsVJ"
      },
      "source": [
        "%matplotlib inline"
      ],
      "execution_count": 6,
      "outputs": []
    },
    {
      "cell_type": "code",
      "metadata": {
        "id": "UrZDEVlSUvP3"
      },
      "source": [
        "from numpy.random import randn , randint , uniform , sample"
      ],
      "execution_count": 7,
      "outputs": []
    },
    {
      "cell_type": "code",
      "metadata": {
        "colab": {
          "base_uri": "https://localhost:8080/",
          "height": 207
        },
        "id": "7Bi_nMyDWW5S",
        "outputId": "7a04ec54-9116-4265-9954-7cc9195443b8"
      },
      "source": [
        "x=[1,2,3,4]\n",
        "y1=[4,3,2,1]\n",
        "y2=[10,20,30,40]\n",
        "y3=[40,30,20,10]\n",
        "y4=[1,2,1,2]\n",
        "y5=[40,70,90,70]\n",
        "plt.subplot(3,3,1)\n",
        "plt.plot(x,y1,color=\"b\")\n",
        "plt.subplot(3,3,2)\n",
        "plt.plot(y1,y2,color=\"r\")\n",
        "plt.subplot(3,3,3)\n",
        "plt.plot(y2,x,color=\"g\")\n",
        "plt.subplot(3,3,4)\n",
        "plt.plot(y3,y4,color=\"m\")\n",
        "plt.subplot(3,3,5)\n",
        "plt.plot(y4,y5,color=\"c\")\n",
        "plt.subplot(3,3,6)\n",
        "plt.plot(y5,y3,color=\"b\")"
      ],
      "execution_count": 30,
      "outputs": [
        {
          "output_type": "execute_result",
          "data": {
            "text/plain": [
              "[<matplotlib.lines.Line2D at 0x7f2e68d3ac50>]"
            ]
          },
          "metadata": {
            "tags": []
          },
          "execution_count": 30
        },
        {
          "output_type": "display_data",
          "data": {
            "image/png": "[encoded data removed]",
            "text/plain": [
              "<Figure size 432x288 with 6 Axes>"
            ]
          },
          "metadata": {
            "tags": [],
            "needs_background": "light"
          }
        }
      ]
    },
    {
      "cell_type": "code",
      "metadata": {
        "id": "4JfkYwnrbHiN"
      },
      "source": [
        ""
      ],
      "execution_count": null,
      "outputs": []
    }
  ]
}