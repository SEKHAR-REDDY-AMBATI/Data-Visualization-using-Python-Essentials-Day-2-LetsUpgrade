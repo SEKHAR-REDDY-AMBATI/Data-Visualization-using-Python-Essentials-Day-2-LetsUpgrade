{
  "nbformat": 4,
  "nbformat_minor": 0,
  "metadata": {
    "colab": {
      "name": "Data Visualization using Python Essentials | Day 2 | Lets Upgrade assignment .ipynb",
      "provenance": []
    },
    "kernelspec": {
      "name": "python3",
      "display_name": "Python 3"
    },
    "language_info": {
      "name": "python"
    }
  },
  "cells": [
    {
      "cell_type": "code",
      "metadata": {
        "id": "RIhwaJo-XR15"
      },
      "source": [
        "#Data Visualization using Python Essentials | Day 2 | LetsUpgrade"
      ],
      "execution_count": 24,
      "outputs": []
    },
    {
      "cell_type": "code",
      "metadata": {
        "id": "kytTLmkuXjHW"
      },
      "source": [
        "#DAY 2  ASSIGNMENT "
      ],
      "execution_count": 25,
      "outputs": []
    },
    {
      "cell_type": "code",
      "metadata": {
        "id": "xbPPKPD1Xp68"
      },
      "source": [
        "#NAME= AMBATI SURYA SEKHARA MANIKANTA RAMIREDDY\n",
        "#EMAIL; sekharreddy717.niper@gmail.com\n",
        "#number = 8331995717"
      ],
      "execution_count": 26,
      "outputs": []
    },
    {
      "cell_type": "code",
      "metadata": {
        "id": "9FDvwegUUKL7"
      },
      "source": [
        "import pandas as pd"
      ],
      "execution_count": 1,
      "outputs": []
    },
    {
      "cell_type": "code",
      "metadata": {
        "id": "xtnAnjQmURYm"
      },
      "source": [
        "import numpy as np"
      ],
      "execution_count": 2,
      "outputs": []
    },
    {
      "cell_type": "code",
      "metadata": {
        "id": "_uJEKBb9UVEu"
      },
      "source": [
        "import matplotlib as mpl"
      ],
      "execution_count": 3,
      "outputs": []
    },
    {
      "cell_type": "code",
      "metadata": {
        "id": "oLGpVbraUYjR"
      },
      "source": [
        "import matplotlib.pyplot as plt"
      ],
      "execution_count": 4,
      "outputs": []
    },
    {
      "cell_type": "code",
      "metadata": {
        "id": "dIylLJa8UiTI"
      },
      "source": [
        "import seaborn as sns"
      ],
      "execution_count": 5,
      "outputs": []
    },
    {
      "cell_type": "code",
      "metadata": {
        "id": "-gH_etzrUsVJ"
      },
      "source": [
        "%matplotlib inline"
      ],
      "execution_count": 6,
      "outputs": []
    },
    {
      "cell_type": "code",
      "metadata": {
        "id": "UrZDEVlSUvP3"
      },
      "source": [
        "from numpy.random import randn , randint , uniform , sample"
      ],
      "execution_count": 7,
      "outputs": []
    },
    {
      "cell_type": "code",
      "metadata": {
        "colab": {
          "base_uri": "https://localhost:8080/",
          "height": 343
        },
        "id": "K8avwGDKV3BD",
        "outputId": "33e6512e-fcc4-49ca-db94-385f5fbd6f12"
      },
      "source": [
        "df=pd.DataFrame(randn(10,4), columns=['a','b','c','d'])\n",
        "df"
      ],
      "execution_count": 12,
      "outputs": [
        {
          "output_type": "execute_result",
          "data": {
            "text/html": [
              "<div>\n",
              "<style scoped>\n",
              "    .dataframe tbody tr th:only-of-type {\n",
              "        vertical-align: middle;\n",
              "    }\n",
              "\n",
              "    .dataframe tbody tr th {\n",
              "        vertical-align: top;\n",
              "    }\n",
              "\n",
              "    .dataframe thead th {\n",
              "        text-align: right;\n",
              "    }\n",
              "</style>\n",
              "<table border=\"1\" class=\"dataframe\">\n",
              "  <thead>\n",
              "    <tr style=\"text-align: right;\">\n",
              "      <th></th>\n",
              "      <th>a</th>\n",
              "      <th>b</th>\n",
              "      <th>c</th>\n",
              "      <th>d</th>\n",
              "    </tr>\n",
              "  </thead>\n",
              "  <tbody>\n",
              "    <tr>\n",
              "      <th>0</th>\n",
              "      <td>0.400224</td>\n",
              "      <td>1.082871</td>\n",
              "      <td>-0.291220</td>\n",
              "      <td>0.645502</td>\n",
              "    </tr>\n",
              "    <tr>\n",
              "      <th>1</th>\n",
              "      <td>0.902099</td>\n",
              "      <td>-0.825473</td>\n",
              "      <td>-1.149519</td>\n",
              "      <td>0.320288</td>\n",
              "    </tr>\n",
              "    <tr>\n",
              "      <th>2</th>\n",
              "      <td>-0.349012</td>\n",
              "      <td>-0.174298</td>\n",
              "      <td>0.652414</td>\n",
              "      <td>-1.433809</td>\n",
              "    </tr>\n",
              "    <tr>\n",
              "      <th>3</th>\n",
              "      <td>-2.082973</td>\n",
              "      <td>0.303107</td>\n",
              "      <td>3.067295</td>\n",
              "      <td>2.557814</td>\n",
              "    </tr>\n",
              "    <tr>\n",
              "      <th>4</th>\n",
              "      <td>-1.261265</td>\n",
              "      <td>1.121022</td>\n",
              "      <td>0.333368</td>\n",
              "      <td>-0.321491</td>\n",
              "    </tr>\n",
              "    <tr>\n",
              "      <th>5</th>\n",
              "      <td>0.645854</td>\n",
              "      <td>-1.718044</td>\n",
              "      <td>-1.274233</td>\n",
              "      <td>-2.693047</td>\n",
              "    </tr>\n",
              "    <tr>\n",
              "      <th>6</th>\n",
              "      <td>1.125014</td>\n",
              "      <td>0.406016</td>\n",
              "      <td>0.865082</td>\n",
              "      <td>0.250380</td>\n",
              "    </tr>\n",
              "    <tr>\n",
              "      <th>7</th>\n",
              "      <td>-1.305265</td>\n",
              "      <td>-0.233688</td>\n",
              "      <td>-0.003002</td>\n",
              "      <td>-0.190029</td>\n",
              "    </tr>\n",
              "    <tr>\n",
              "      <th>8</th>\n",
              "      <td>0.291521</td>\n",
              "      <td>-0.379996</td>\n",
              "      <td>-0.718368</td>\n",
              "      <td>0.645798</td>\n",
              "    </tr>\n",
              "    <tr>\n",
              "      <th>9</th>\n",
              "      <td>-0.273944</td>\n",
              "      <td>-0.443304</td>\n",
              "      <td>-0.486078</td>\n",
              "      <td>-0.924321</td>\n",
              "    </tr>\n",
              "  </tbody>\n",
              "</table>\n",
              "</div>"
            ],
            "text/plain": [
              "          a         b         c         d\n",
              "0  0.400224  1.082871 -0.291220  0.645502\n",
              "1  0.902099 -0.825473 -1.149519  0.320288\n",
              "2 -0.349012 -0.174298  0.652414 -1.433809\n",
              "3 -2.082973  0.303107  3.067295  2.557814\n",
              "4 -1.261265  1.121022  0.333368 -0.321491\n",
              "5  0.645854 -1.718044 -1.274233 -2.693047\n",
              "6  1.125014  0.406016  0.865082  0.250380\n",
              "7 -1.305265 -0.233688 -0.003002 -0.190029\n",
              "8  0.291521 -0.379996 -0.718368  0.645798\n",
              "9 -0.273944 -0.443304 -0.486078 -0.924321"
            ]
          },
          "metadata": {
            "tags": []
          },
          "execution_count": 12
        }
      ]
    },
    {
      "cell_type": "code",
      "metadata": {
        "colab": {
          "base_uri": "https://localhost:8080/",
          "height": 604
        },
        "id": "pEf8qC3hVP-w",
        "outputId": "00aed921-540e-4791-9e40-f69a6c12a4d4"
      },
      "source": [
        "df.plot(kind='bar',figsize=(10,10))\n",
        "plt.title(\"bar plot\")\n",
        "plt.show()"
      ],
      "execution_count": 23,
      "outputs": [
        {
          "output_type": "display_data",
          "data": {
            "image/png": "[encoded data removed]",
            "text/plain": [
              "<Figure size 720x720 with 1 Axes>"
            ]
          },
          "metadata": {
            "tags": [],
            "needs_background": "light"
          }
        }
      ]
    },
    {
      "cell_type": "code",
      "metadata": {
        "id": "7Bi_nMyDWW5S"
      },
      "source": [
        ""
      ],
      "execution_count": null,
      "outputs": []
    }
  ]
}